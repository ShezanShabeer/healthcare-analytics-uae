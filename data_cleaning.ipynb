{
 "cells": [
  {
   "cell_type": "code",
   "execution_count": 21,
   "id": "b3b69a0f-1bef-468a-a8b9-f399773b9e33",
   "metadata": {},
   "outputs": [],
   "source": [
    "import pandas as pd"
   ]
  },
  {
   "cell_type": "code",
   "execution_count": 22,
   "id": "4544c3fa-e1b3-4e0a-8c9a-709317ed0821",
   "metadata": {},
   "outputs": [],
   "source": [
    "df = pd.read_csv('visit_dataset.csv')"
   ]
  },
  {
   "cell_type": "code",
   "execution_count": 23,
   "id": "fe9bb23f-140f-44ad-b288-f8b91b45c67b",
   "metadata": {},
   "outputs": [
    {
     "data": {
      "text/html": [
       "<div>\n",
       "<style scoped>\n",
       "    .dataframe tbody tr th:only-of-type {\n",
       "        vertical-align: middle;\n",
       "    }\n",
       "\n",
       "    .dataframe tbody tr th {\n",
       "        vertical-align: top;\n",
       "    }\n",
       "\n",
       "    .dataframe thead th {\n",
       "        text-align: right;\n",
       "    }\n",
       "</style>\n",
       "<table border=\"1\" class=\"dataframe\">\n",
       "  <thead>\n",
       "    <tr style=\"text-align: right;\">\n",
       "      <th></th>\n",
       "      <th>Visit_Date</th>\n",
       "      <th>Patient_ID</th>\n",
       "      <th>Age</th>\n",
       "      <th>Gender</th>\n",
       "      <th>Diagnosis</th>\n",
       "      <th>Has_Insurance</th>\n",
       "      <th>Area</th>\n",
       "      <th>Total_Cost</th>\n",
       "      <th>Registration time</th>\n",
       "      <th>Nursing time</th>\n",
       "      <th>Laboratory time</th>\n",
       "      <th>Consultation time</th>\n",
       "      <th>Pharmacy time</th>\n",
       "    </tr>\n",
       "  </thead>\n",
       "  <tbody>\n",
       "    <tr>\n",
       "      <th>0</th>\n",
       "      <td>2019-01-01</td>\n",
       "      <td>4174</td>\n",
       "      <td>28</td>\n",
       "      <td>Male</td>\n",
       "      <td>Type 1 Diabetes</td>\n",
       "      <td>Yes</td>\n",
       "      <td>Downtown Dubai</td>\n",
       "      <td>711.975905</td>\n",
       "      <td>21.6</td>\n",
       "      <td>21.1</td>\n",
       "      <td>29.6</td>\n",
       "      <td>25.8</td>\n",
       "      <td>28.2</td>\n",
       "    </tr>\n",
       "    <tr>\n",
       "      <th>1</th>\n",
       "      <td>2019-01-01</td>\n",
       "      <td>4507</td>\n",
       "      <td>62</td>\n",
       "      <td>Female</td>\n",
       "      <td>Type 2 Diabetes</td>\n",
       "      <td>Yes</td>\n",
       "      <td>Downtown Dubai</td>\n",
       "      <td>507.680147</td>\n",
       "      <td>13.0</td>\n",
       "      <td>50.9</td>\n",
       "      <td>34.8</td>\n",
       "      <td>26.3</td>\n",
       "      <td>23.2</td>\n",
       "    </tr>\n",
       "    <tr>\n",
       "      <th>2</th>\n",
       "      <td>2019-01-01</td>\n",
       "      <td>1860</td>\n",
       "      <td>47</td>\n",
       "      <td>Male</td>\n",
       "      <td>Prediabetes</td>\n",
       "      <td>Yes</td>\n",
       "      <td>Downtown Dubai</td>\n",
       "      <td>317.582770</td>\n",
       "      <td>27.3</td>\n",
       "      <td>20.9</td>\n",
       "      <td>23.9</td>\n",
       "      <td>35.1</td>\n",
       "      <td>14.8</td>\n",
       "    </tr>\n",
       "    <tr>\n",
       "      <th>3</th>\n",
       "      <td>2019-01-01</td>\n",
       "      <td>2294</td>\n",
       "      <td>10</td>\n",
       "      <td>Female</td>\n",
       "      <td>Type 2 Diabetes</td>\n",
       "      <td>Yes</td>\n",
       "      <td>Downtown Dubai</td>\n",
       "      <td>484.387822</td>\n",
       "      <td>19.2</td>\n",
       "      <td>30.8</td>\n",
       "      <td>22.9</td>\n",
       "      <td>20.6</td>\n",
       "      <td>21.9</td>\n",
       "    </tr>\n",
       "    <tr>\n",
       "      <th>4</th>\n",
       "      <td>2019-01-01</td>\n",
       "      <td>2130</td>\n",
       "      <td>66</td>\n",
       "      <td>Male</td>\n",
       "      <td>Type 2 Diabetes</td>\n",
       "      <td>Yes</td>\n",
       "      <td>Downtown Dubai</td>\n",
       "      <td>118.649105</td>\n",
       "      <td>13.3</td>\n",
       "      <td>29.1</td>\n",
       "      <td>19.5</td>\n",
       "      <td>34.2</td>\n",
       "      <td>36.6</td>\n",
       "    </tr>\n",
       "  </tbody>\n",
       "</table>\n",
       "</div>"
      ],
      "text/plain": [
       "   Visit_Date  Patient_ID  Age  Gender        Diagnosis Has_Insurance  \\\n",
       "0  2019-01-01        4174   28    Male  Type 1 Diabetes           Yes   \n",
       "1  2019-01-01        4507   62  Female  Type 2 Diabetes           Yes   \n",
       "2  2019-01-01        1860   47    Male      Prediabetes           Yes   \n",
       "3  2019-01-01        2294   10  Female  Type 2 Diabetes           Yes   \n",
       "4  2019-01-01        2130   66    Male  Type 2 Diabetes           Yes   \n",
       "\n",
       "             Area  Total_Cost  Registration time  Nursing time  \\\n",
       "0  Downtown Dubai  711.975905               21.6          21.1   \n",
       "1  Downtown Dubai  507.680147               13.0          50.9   \n",
       "2  Downtown Dubai  317.582770               27.3          20.9   \n",
       "3  Downtown Dubai  484.387822               19.2          30.8   \n",
       "4  Downtown Dubai  118.649105               13.3          29.1   \n",
       "\n",
       "   Laboratory time  Consultation time  Pharmacy time  \n",
       "0             29.6               25.8           28.2  \n",
       "1             34.8               26.3           23.2  \n",
       "2             23.9               35.1           14.8  \n",
       "3             22.9               20.6           21.9  \n",
       "4             19.5               34.2           36.6  "
      ]
     },
     "execution_count": 23,
     "metadata": {},
     "output_type": "execute_result"
    }
   ],
   "source": [
    "df.head()"
   ]
  },
  {
   "cell_type": "code",
   "execution_count": 24,
   "id": "5e5948a9-5dc3-4d4a-a390-026b5c90e31c",
   "metadata": {},
   "outputs": [],
   "source": [
    "# Convert date column to datetime format\n",
    "df[\"Visit_Date\"] = pd.to_datetime(df[\"Visit_Date\"], format=\"%Y-%m-%d\")"
   ]
  },
  {
   "cell_type": "code",
   "execution_count": 25,
   "id": "433aa05e-7d3e-48c1-94a6-c9c592d1be4e",
   "metadata": {},
   "outputs": [
    {
     "name": "stdout",
     "output_type": "stream",
     "text": [
      "Visit_Date               0\n",
      "Patient_ID               0\n",
      "Age                      0\n",
      "Gender               10202\n",
      "Diagnosis            32712\n",
      "Has_Insurance        53950\n",
      "Area                     0\n",
      "Total_Cost               0\n",
      "Registration time        0\n",
      "Nursing time             0\n",
      "Laboratory time          0\n",
      "Consultation time        0\n",
      "Pharmacy time            0\n",
      "dtype: int64\n"
     ]
    }
   ],
   "source": [
    "# Check for missing values\n",
    "print(df.isnull().sum())"
   ]
  },
  {
   "cell_type": "code",
   "execution_count": 26,
   "id": "ebe94084-b465-42f9-94f4-c76103c7d557",
   "metadata": {},
   "outputs": [],
   "source": [
    "#Filling blank values for diagnosis with Unknown\n",
    "df[\"Diagnosis\"] = df[\"Diagnosis\"].fillna(\"Unknown\")"
   ]
  },
  {
   "cell_type": "code",
   "execution_count": 27,
   "id": "dee7df86-9bc3-42d0-88df-0fcf59463e20",
   "metadata": {},
   "outputs": [
    {
     "name": "stdout",
     "output_type": "stream",
     "text": [
      "Visit_Date               0\n",
      "Patient_ID               0\n",
      "Age                      0\n",
      "Gender               10202\n",
      "Diagnosis                0\n",
      "Has_Insurance        53950\n",
      "Area                     0\n",
      "Total_Cost               0\n",
      "Registration time        0\n",
      "Nursing time             0\n",
      "Laboratory time          0\n",
      "Consultation time        0\n",
      "Pharmacy time            0\n",
      "dtype: int64\n"
     ]
    }
   ],
   "source": [
    "print(df.isnull().sum())"
   ]
  },
  {
   "cell_type": "code",
   "execution_count": 28,
   "id": "3aeead6b-96af-4a45-8113-ca2fd1a1f934",
   "metadata": {},
   "outputs": [],
   "source": [
    "#FIlling blank values for gender as Other\n",
    "df[\"Gender\"] = df[\"Gender\"].fillna(\"Other\")"
   ]
  },
  {
   "cell_type": "code",
   "execution_count": 29,
   "id": "1af6c2f5-f7f6-4b33-b7e8-b40adae12e22",
   "metadata": {},
   "outputs": [],
   "source": [
    "#Filling blank values for has_insurance as No\n",
    "df[\"Has_Insurance\"] = df[\"Has_Insurance\"].fillna(\"No\")"
   ]
  },
  {
   "cell_type": "code",
   "execution_count": 30,
   "id": "7232b53f-9c3f-4348-aaa3-da27c0126494",
   "metadata": {},
   "outputs": [
    {
     "name": "stdout",
     "output_type": "stream",
     "text": [
      "Visit_Date           0\n",
      "Patient_ID           0\n",
      "Age                  0\n",
      "Gender               0\n",
      "Diagnosis            0\n",
      "Has_Insurance        0\n",
      "Area                 0\n",
      "Total_Cost           0\n",
      "Registration time    0\n",
      "Nursing time         0\n",
      "Laboratory time      0\n",
      "Consultation time    0\n",
      "Pharmacy time        0\n",
      "dtype: int64\n"
     ]
    }
   ],
   "source": [
    "print(df.isnull().sum())"
   ]
  },
  {
   "cell_type": "code",
   "execution_count": 31,
   "id": "afbb690c-e03a-47cd-b73a-ff4938842076",
   "metadata": {},
   "outputs": [],
   "source": [
    "df = df.drop_duplicates()"
   ]
  },
  {
   "cell_type": "code",
   "execution_count": 32,
   "id": "8fd45a4f-96c2-4b24-95fc-1045f2577daf",
   "metadata": {},
   "outputs": [],
   "source": [
    "#drop columns where age=0\n",
    "df = df[(df['Age']>0)]"
   ]
  },
  {
   "cell_type": "code",
   "execution_count": 34,
   "id": "8fc9b434-6df6-4758-8700-8d759d079846",
   "metadata": {},
   "outputs": [],
   "source": [
    "df[\"Total_Cost\"] = df[\"Total_Cost\"].abs()"
   ]
  },
  {
   "cell_type": "code",
   "execution_count": 35,
   "id": "efceab2a-feb9-49b6-9d2a-5272c25a9769",
   "metadata": {},
   "outputs": [],
   "source": [
    "#Save the cleaned data to 'cleaned_patient_data.csv' file\n",
    "df.to_csv('cleaned_patient_data.csv', index=False)"
   ]
  },
  {
   "cell_type": "code",
   "execution_count": null,
   "id": "659f35c8-f3c6-4cad-b403-a81c72c0fcbf",
   "metadata": {},
   "outputs": [],
   "source": []
  }
 ],
 "metadata": {
  "kernelspec": {
   "display_name": "Python 3 (ipykernel)",
   "language": "python",
   "name": "python3"
  },
  "language_info": {
   "codemirror_mode": {
    "name": "ipython",
    "version": 3
   },
   "file_extension": ".py",
   "mimetype": "text/x-python",
   "name": "python",
   "nbconvert_exporter": "python",
   "pygments_lexer": "ipython3",
   "version": "3.10.4"
  }
 },
 "nbformat": 4,
 "nbformat_minor": 5
}
